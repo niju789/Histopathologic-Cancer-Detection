{
 "cells": [
  {
   "cell_type": "markdown",
   "id": "91010645",
   "metadata": {},
   "source": [
    "# Histopathologic Cancer Detection\n",
    "\n",
    "GitHub Repository: https://github.com/niju789/Histopathologic-Cancer-Detection"
   ]
  },
  {
   "cell_type": "markdown",
   "id": "0a7fd4f6",
   "metadata": {},
   "source": [
    "## 1 - Introduction\n",
    "\n",
    "### 1.1 - Problem\n",
    "\n",
    "This project aims to develop and train a convolutional neural network (CNN) to classify images based on whether the image contains tumour tissue.\n",
    "\n",
    "### 1.2 - Data\n",
    "\n",
    "The data provided is already split into training and testing sets. The training set contains 220,025 images. The testing set contains 57,458 images. The images are 96 x 96 TIFF files of pathology scans."
   ]
  },
  {
   "cell_type": "markdown",
   "id": "98589fba",
   "metadata": {},
   "source": [
    "## 2 - Exploratory Data Analysis (EDA)\n",
    "\n",
    "### 2.1 - Data Inspection and Cleaning\n",
    "\n",
    "#### 2.1.1 - Training Labels"
   ]
  },
  {
   "cell_type": "code",
   "execution_count": 1,
   "id": "915cca49",
   "metadata": {},
   "outputs": [],
   "source": [
    "import pandas as pd\n",
    "\n",
    "# Load train_labels.csv\n",
    "train_labels_df = pd.read_csv('./data/train_labels.csv')"
   ]
  },
  {
   "cell_type": "code",
   "execution_count": 2,
   "id": "70003a01",
   "metadata": {},
   "outputs": [
    {
     "data": {
      "text/html": [
       "<div>\n",
       "<style scoped>\n",
       "    .dataframe tbody tr th:only-of-type {\n",
       "        vertical-align: middle;\n",
       "    }\n",
       "\n",
       "    .dataframe tbody tr th {\n",
       "        vertical-align: top;\n",
       "    }\n",
       "\n",
       "    .dataframe thead th {\n",
       "        text-align: right;\n",
       "    }\n",
       "</style>\n",
       "<table border=\"1\" class=\"dataframe\">\n",
       "  <thead>\n",
       "    <tr style=\"text-align: right;\">\n",
       "      <th></th>\n",
       "      <th>id</th>\n",
       "      <th>label</th>\n",
       "    </tr>\n",
       "  </thead>\n",
       "  <tbody>\n",
       "    <tr>\n",
       "      <th>0</th>\n",
       "      <td>f38a6374c348f90b587e046aac6079959adf3835</td>\n",
       "      <td>0</td>\n",
       "    </tr>\n",
       "    <tr>\n",
       "      <th>1</th>\n",
       "      <td>c18f2d887b7ae4f6742ee445113fa1aef383ed77</td>\n",
       "      <td>1</td>\n",
       "    </tr>\n",
       "    <tr>\n",
       "      <th>2</th>\n",
       "      <td>755db6279dae599ebb4d39a9123cce439965282d</td>\n",
       "      <td>0</td>\n",
       "    </tr>\n",
       "    <tr>\n",
       "      <th>3</th>\n",
       "      <td>bc3f0c64fb968ff4a8bd33af6971ecae77c75e08</td>\n",
       "      <td>0</td>\n",
       "    </tr>\n",
       "    <tr>\n",
       "      <th>4</th>\n",
       "      <td>068aba587a4950175d04c680d38943fd488d6a9d</td>\n",
       "      <td>0</td>\n",
       "    </tr>\n",
       "  </tbody>\n",
       "</table>\n",
       "</div>"
      ],
      "text/plain": [
       "                                         id  label\n",
       "0  f38a6374c348f90b587e046aac6079959adf3835      0\n",
       "1  c18f2d887b7ae4f6742ee445113fa1aef383ed77      1\n",
       "2  755db6279dae599ebb4d39a9123cce439965282d      0\n",
       "3  bc3f0c64fb968ff4a8bd33af6971ecae77c75e08      0\n",
       "4  068aba587a4950175d04c680d38943fd488d6a9d      0"
      ]
     },
     "execution_count": 2,
     "metadata": {},
     "output_type": "execute_result"
    }
   ],
   "source": [
    "# Show first 5 rows of train_labels\n",
    "train_labels_df.head()"
   ]
  },
  {
   "cell_type": "markdown",
   "id": "f60a1020",
   "metadata": {},
   "source": [
    "Remove rows with missing values."
   ]
  },
  {
   "cell_type": "code",
   "execution_count": 3,
   "id": "cbaf9a45",
   "metadata": {},
   "outputs": [
    {
     "name": "stdout",
     "output_type": "stream",
     "text": [
      "(220025, 2)\n",
      "(220025, 2)\n"
     ]
    }
   ],
   "source": [
    "print(train_labels_df.shape)\n",
    "train_labels_df = train_labels_df.dropna()\n",
    "print(train_labels_df.shape)"
   ]
  },
  {
   "cell_type": "markdown",
   "id": "ce9f5721",
   "metadata": {},
   "source": [
    "No rows were dropped since there were no missing values. However, whether the values in the \"label\" column are valid should be checked."
   ]
  },
  {
   "cell_type": "code",
   "execution_count": 4,
   "id": "a8ef6fca",
   "metadata": {},
   "outputs": [
    {
     "name": "stdout",
     "output_type": "stream",
     "text": [
      "[0 1]\n"
     ]
    }
   ],
   "source": [
    "# Print the unique values in the \"label\" column\n",
    "print(train_labels_df['label'].unique())"
   ]
  },
  {
   "cell_type": "markdown",
   "id": "9ebaf49f",
   "metadata": {},
   "source": [
    "The \"label\" column contains only values that are either 0 or 1, which means the data in this column is valid.\n",
    "\n",
    "#### 2.1.2 - Images\n",
    "\n",
    "Load and preprocess the training images."
   ]
  },
  {
   "cell_type": "code",
   "execution_count": 5,
   "id": "778c3454",
   "metadata": {},
   "outputs": [],
   "source": [
    "from tensorflow.keras.preprocessing.image import img_to_array, load_img\n",
    "\n",
    "def load_and_preprocess_image(file_path):\n",
    "    img = load_img(file_path)\n",
    "    # Convert image to an array and take the center 32 x 32 pixel region\n",
    "    img_array = img_to_array(img)[32:64, 32:64, :]\n",
    "    # Normalize the pixel values to be between 0 and 1\n",
    "    img_array /= 255.0\n",
    "    return img_array"
   ]
  },
  {
   "cell_type": "code",
   "execution_count": 6,
   "id": "56a38691",
   "metadata": {},
   "outputs": [],
   "source": [
    "train_images = []\n",
    "train_labels = []\n",
    "\n",
    "for _, img in train_labels_df.iterrows():\n",
    "    file_path = f'./data/train/{img[\"id\"]}.tif'\n",
    "    img_array = load_and_preprocess_image(file_path)\n",
    "    train_images.append(img_array)\n",
    "    train_labels.append(img['label'])"
   ]
  },
  {
   "cell_type": "code",
   "execution_count": 7,
   "id": "d6dde3db",
   "metadata": {},
   "outputs": [],
   "source": [
    "import numpy as np\n",
    "\n",
    "train_images = np.array(train_images)\n",
    "train_labels = np.array(train_labels)"
   ]
  },
  {
   "cell_type": "markdown",
   "id": "135d6ead",
   "metadata": {},
   "source": [
    "#### 2.1.3 - Data Cleaning Conclusion\n",
    "\n",
    "The data loaded from \"train_labels.csv\" did not require any data cleaning. For the training images, the data cleaning procedure included extracting only the center 32 x 32 pixel region and normalizing the pixel values to between 0 and 1.\n",
    "\n",
    "### 2.2 - Data Visualization"
   ]
  },
  {
   "cell_type": "code",
   "execution_count": 8,
   "id": "bf6c46ec",
   "metadata": {},
   "outputs": [
    {
     "data": {
      "image/png": "[encoded data removed]",
      "text/plain": [
       "<Figure size 640x480 with 1 Axes>"
      ]
     },
     "metadata": {},
     "output_type": "display_data"
    }
   ],
   "source": [
    "import matplotlib.pyplot as plt\n",
    "\n",
    "# Get the unique training label values and their counts\n",
    "values, counts = np.unique(train_labels, return_counts=True)\n",
    "\n",
    "plt.bar(values.astype(str), counts)\n",
    "plt.xlabel('Label')\n",
    "plt.ylabel('Frequency')\n",
    "plt.title('Distribution of Labels')\n",
    "plt.show()"
   ]
  },
  {
   "cell_type": "markdown",
   "id": "67e7a6fa",
   "metadata": {},
   "source": [
    "The distribution of labels for training images is somewhat uneven. However, due to the high amount of training samples, this should not be an issue."
   ]
  },
  {
   "cell_type": "code",
   "execution_count": 9,
   "id": "27191e17",
   "metadata": {},
   "outputs": [
    {
     "data": {
      "image/png": "[encoded data removed]",
      "text/plain": [
       "<Figure size 640x480 with 1 Axes>"
      ]
     },
     "metadata": {},
     "output_type": "display_data"
    }
   ],
   "source": [
    "plt.hist(train_images.flatten())\n",
    "plt.ticklabel_format(style='plain')\n",
    "plt.xlabel('Normalized Pixel Value')\n",
    "plt.ylabel('Frequency')\n",
    "plt.title('Distribution of Normalized Pixel Values')\n",
    "plt.show()"
   ]
  },
  {
   "cell_type": "markdown",
   "id": "5d29043b",
   "metadata": {},
   "source": [
    "The higher the normalized pixel value, the higher the frequency at which they appear in the training images.\n",
    "\n",
    "### 2.3 - Plan of Analysis\n",
    "\n",
    "Based on the EDA, there is no need to significantly alter the usual process for image classification. The only effect that the EDA has on the analysis is that the model must be designed to work with 32 x 32 images rather than the original dimension of these images which is 96 x 96."
   ]
  },
  {
   "cell_type": "markdown",
   "id": "03acfa87",
   "metadata": {},
   "source": [
    "## 3 - Model Architecture\n",
    "\n",
    "### 3.1 - Archictectures to Compare\n",
    "\n",
    "Two different model architectures will be compared.\n",
    "\n",
    "#### 3.1.1 - Architecture 1\n",
    "\n",
    "Input - 32 x 32 image with 3 channels (RGB)<br>\n",
    "Convolutional layer - 32 filters of size 3 x 3<br>\n",
    "ReLU activation<br>\n",
    "Pooling layer - Max pool of size 2 x 2<br>\n",
    "Convolutional layer - 64 filters of size 3 x 3<br>\n",
    "ReLU activation<br>\n",
    "Pooling layer - Max pool of size 2 x 2<br>\n",
    "Fully connected layer - 64 neurons<br>\n",
    "ReLU activation<br>\n",
    "Output layer - 1 neuron with Sigmoid activation\n",
    "\n",
    "Reasoning: 3 x 3 filters seem to be the most suitable for this problem since the dimensions of the images are somewhat small and 5 x 5 or any filter of a higher dimension seem too large. ReLU activations are used after the convolutional layers since this is the most commonly used activation function when dealing with image classification using a CNN. Pooling layers that use max pool of size 2 x 2 are used after the ReLU activations. The size 2 x 2 seems to be the most appropriate for this problem since any size greater than this seems too large given the dimensions of the images. The output layer uses the Sigmoid activation function since this is a binary classification problem where the output should be between 0 and 1.\n",
    "\n",
    "#### 3.1.2 - Architecture 2\n",
    "\n",
    "Input - 32 x 32 image with 3 channels (RGB)<br>\n",
    "Convolutional layer - 32 filters of size 3 x 3<br>\n",
    "ReLU activation<br>\n",
    "Pooling layer - Max pool of size 2 x 2<br>\n",
    "Convolutional layer - 64 filters of size 3 x 3<br>\n",
    "ReLU activation<br>\n",
    "Pooling layer - Max pool of size 2 x 2<br>\n",
    "Convolutional layer - 128 filters of size 3 x 3<br>\n",
    "ReLU activation<br>\n",
    "Pooling layer - Max pool of size 2 x 2<br>\n",
    "Fully connected layer - 128 neurons<br>\n",
    "ReLU activation<br>\n",
    "Fully connected layer - 64 neurons<br>\n",
    "ReLU activation<br>\n",
    "Output layer - 1 neuron with Sigmoid activation\n",
    "\n",
    "Reasoning: The reasoning remains the same as for the previous architecture. The notable differences are the additional convolutional layer and the additional fully connected layer.\n",
    "\n",
    "### 3.2 - Hyperparameters\n",
    "\n",
    "Due to limited resources in terms of computing power and time, the hyperparameters that will be considered are those involved in training a neural network.\n",
    "\n",
    "The hyperparameters that will be tuned are:\n",
    "- Batch size\n",
    "- Number of epochs"
   ]
  },
  {
   "cell_type": "markdown",
   "id": "61a51630",
   "metadata": {},
   "source": [
    "## 4 - Results and Analysis\n",
    "\n",
    "### 4.1 - Hyperparameter Tuning\n",
    "\n",
    "As part of the hyperparameter tuning, the performances of the two model architectures will be compared and the selection of the best model will be based on the hyperparameters and the architecture with the best performance.\n",
    "\n",
    "For each of the two model architectures, the hyperparameter tuning procedure will consider 10 and 20 as values for the number of epochs and 64, 128, and 256 as values for the batch size."
   ]
  },
  {
   "cell_type": "code",
   "execution_count": 10,
   "id": "ee9fec0c",
   "metadata": {},
   "outputs": [],
   "source": [
    "from tensorflow.keras.models import Sequential\n",
    "from tensorflow.keras.layers import Conv2D, MaxPooling2D, Flatten, Dense\n",
    "from sklearn.model_selection import train_test_split\n",
    "\n",
    "# Define and return the model with the architecture specified in 3.1.1 - Architecture 1\n",
    "def create_model_1():\n",
    "    model = Sequential([\n",
    "        Conv2D(32, (3, 3), activation='relu', input_shape=(32, 32, 3)),\n",
    "        MaxPooling2D((2, 2)),\n",
    "        Conv2D(64, (3, 3), activation='relu'),\n",
    "        MaxPooling2D((2, 2)),\n",
    "        Flatten(),\n",
    "        Dense(64, activation='relu'),\n",
    "        Dense(1, activation='sigmoid')\n",
    "    ])\n",
    "    model.compile(optimizer='adam', loss='binary_crossentropy', metrics=['accuracy'])\n",
    "    return model\n",
    "\n",
    "# Define and return the model with the architecture specified in 3.1.2 - Architecture 2\n",
    "def create_model_2():\n",
    "    model = Sequential([\n",
    "        Conv2D(32, (3, 3), activation='relu', input_shape=(32, 32, 3)),\n",
    "        MaxPooling2D((2, 2)),\n",
    "        Conv2D(64, (3, 3), activation='relu'),\n",
    "        MaxPooling2D((2, 2)),\n",
    "        Conv2D(128, (3, 3), activation='relu'),\n",
    "        MaxPooling2D((2, 2)),\n",
    "        Flatten(),\n",
    "        Dense(128, activation='relu'),\n",
    "        Dense(64, activation='relu'),\n",
    "        Dense(1, activation='sigmoid')\n",
    "    ])\n",
    "    model.compile(optimizer='adam', loss='binary_crossentropy', metrics=['accuracy'])\n",
    "    return model\n",
    "\n",
    "# Split training data into training and validation sets\n",
    "X_train, X_val, y_train, y_val = train_test_split(\n",
    "    train_images, train_labels, test_size=0.2, random_state=123\n",
    ")\n",
    "\n",
    "# Hyperparameters and values considered\n",
    "num_epochs = [10, 20]\n",
    "batch_sizes = [64, 128, 256]\n",
    "\n",
    "# Stores validation accuracies for each hyperparameter combination\n",
    "val_accs_1 = {}\n",
    "val_accs_2 = {}\n",
    "\n",
    "arch_1 = { 'id': 1, 'create_model': create_model_1, 'val_accs': val_accs_1 }\n",
    "arch_2 = { 'id': 2, 'create_model': create_model_2, 'val_accs': val_accs_2 }\n",
    "\n",
    "best_val_acc = 0\n",
    "best_h_params = { 'num_epochs': None, 'batch_size': None }\n",
    "best_arch = None\n",
    "best_hp_model = None"
   ]
  },
  {
   "cell_type": "code",
   "execution_count": 11,
   "id": "3fe62f6f",
   "metadata": {},
   "outputs": [
    {
     "name": "stdout",
     "output_type": "stream",
     "text": [
      "Model architecture: 1, # of epochs: 10, batch size: 64\n",
      "Validation accuracy: 0.8199068307876587\n",
      "Model architecture: 1, # of epochs: 10, batch size: 128\n",
      "Validation accuracy: 0.8216566443443298\n",
      "Model architecture: 1, # of epochs: 10, batch size: 256\n",
      "Validation accuracy: 0.8201113343238831\n",
      "Model architecture: 1, # of epochs: 20, batch size: 64\n",
      "Validation accuracy: 0.8194750547409058\n",
      "Model architecture: 1, # of epochs: 20, batch size: 128\n",
      "Validation accuracy: 0.8346324563026428\n",
      "Model architecture: 1, # of epochs: 20, batch size: 256\n",
      "Validation accuracy: 0.8144301772117615\n",
      "Model architecture: 2, # of epochs: 10, batch size: 64\n",
      "Validation accuracy: 0.8199068307876587\n",
      "Model architecture: 2, # of epochs: 10, batch size: 128\n",
      "Validation accuracy: 0.8255879878997803\n",
      "Model architecture: 2, # of epochs: 10, batch size: 256\n",
      "Validation accuracy: 0.8264742493629456\n",
      "Model architecture: 2, # of epochs: 20, batch size: 64\n",
      "Validation accuracy: 0.8147937655448914\n",
      "Model architecture: 2, # of epochs: 20, batch size: 128\n",
      "Validation accuracy: 0.8191568851470947\n",
      "Model architecture: 2, # of epochs: 20, batch size: 256\n",
      "Validation accuracy: 0.8327008485794067\n"
     ]
    }
   ],
   "source": [
    "from tensorflow.keras.callbacks import EarlyStopping\n",
    "\n",
    "for arch in [arch_1, arch_2]:\n",
    "    arch_id = arch['id']\n",
    "    create_model = arch['create_model']\n",
    "    val_accs = arch['val_accs']\n",
    "    for epochs in num_epochs:\n",
    "        val_accs[epochs] = {}\n",
    "        for batch_size in batch_sizes:\n",
    "            print(f'Model architecture: {arch_id}, # of epochs: {epochs}, batch size: {batch_size}')\n",
    "            model = create_model()\n",
    "            early_stopping = EarlyStopping(monitor='val_accuracy', patience=3, restore_best_weights=True)\n",
    "            history = model.fit(\n",
    "                X_train, y_train,\n",
    "                batch_size=batch_size,\n",
    "                epochs=epochs,\n",
    "                validation_data=(X_val, y_val),\n",
    "                callbacks=[early_stopping],\n",
    "                verbose=0\n",
    "            )\n",
    "            val_acc = max(history.history['val_accuracy'])\n",
    "            print(f'Validation accuracy: {val_acc}')\n",
    "            val_accs[epochs][batch_size] = val_acc\n",
    "            if val_acc > best_val_acc:\n",
    "                best_val_acc = val_acc\n",
    "                best_h_params['num_epochs'] = epochs\n",
    "                best_h_params['batch_size'] = batch_size\n",
    "                best_arch = arch_id\n",
    "                best_hp_model = model"
   ]
  },
  {
   "cell_type": "code",
   "execution_count": 12,
   "id": "4ba0364b",
   "metadata": {},
   "outputs": [
    {
     "name": "stdout",
     "output_type": "stream",
     "text": [
      "Best validation accuracy: 0.8346324563026428\n",
      "Best model architecture: 1\n",
      "Best number of epochs: 20\n",
      "Best batch size: 128\n"
     ]
    }
   ],
   "source": [
    "print(f'Best validation accuracy: {best_val_acc}')\n",
    "print(f'Best model architecture: {best_arch}')\n",
    "print(f'Best number of epochs: {best_h_params[\"num_epochs\"]}')\n",
    "print(f'Best batch size: {best_h_params[\"batch_size\"]}')"
   ]
  },
  {
   "cell_type": "markdown",
   "id": "2852492b",
   "metadata": {},
   "source": [
    "The model with architecture 1 trained with a batch size of 128 over 20 epochs gave the best validation accuracy.\n",
    "\n",
    "### 4.2 - Techniques to Improve Training or Performance\n",
    "\n",
    "#### 4.2.1 - L2 Regularization\n",
    "\n",
    "Having L2 regularization in the fully connected layers may reduce any overfitting."
   ]
  },
  {
   "cell_type": "code",
   "execution_count": 13,
   "id": "7aa6db52",
   "metadata": {},
   "outputs": [],
   "source": [
    "from tensorflow.keras.regularizers import l2\n",
    "\n",
    "# Return model with architecture 2 with L2 regularization added\n",
    "def create_model_l2(factor):\n",
    "    model = Sequential([\n",
    "        Conv2D(32, (3, 3), activation='relu', input_shape=(32, 32, 3)),\n",
    "        MaxPooling2D((2, 2)),\n",
    "        Conv2D(64, (3, 3), activation='relu'),\n",
    "        MaxPooling2D((2, 2)),\n",
    "        Conv2D(128, (3, 3), activation='relu'),\n",
    "        MaxPooling2D((2, 2)),\n",
    "        Flatten(),\n",
    "        Dense(128, activation='relu', kernel_regularizer=l2(factor)),\n",
    "        Dense(64, activation='relu', kernel_regularizer=l2(factor)),\n",
    "        Dense(1, activation='sigmoid')\n",
    "    ])\n",
    "    model.compile(optimizer='adam', loss='binary_crossentropy', metrics=['accuracy'])\n",
    "    return model\n",
    "\n",
    "# Split training data into training and validation sets\n",
    "X_train, X_val, y_train, y_val = train_test_split(\n",
    "    train_images, train_labels, test_size=0.2, random_state=123\n",
    ")\n",
    "\n",
    "# Regularization factors considered\n",
    "factors = [0.001, 0.01, 0.1, 1.0]\n",
    "\n",
    "# Stores validation accuracies for each regularization factor\n",
    "val_accs_l2 = {}\n",
    "\n",
    "best_val_acc = 0\n",
    "best_factor = None\n",
    "best_l2_model = None"
   ]
  },
  {
   "cell_type": "code",
   "execution_count": 14,
   "id": "6ccc5e38",
   "metadata": {},
   "outputs": [
    {
     "name": "stdout",
     "output_type": "stream",
     "text": [
      "Regularization factor: 0.001\n",
      "Validation accuracy: 0.822156548500061\n",
      "Regularization factor: 0.01\n",
      "Validation accuracy: 0.816634476184845\n",
      "Regularization factor: 0.1\n",
      "Validation accuracy: 0.8319736123085022\n",
      "Regularization factor: 1.0\n",
      "Validation accuracy: 0.8053402900695801\n"
     ]
    }
   ],
   "source": [
    "for factor in factors:\n",
    "    print(f'Regularization factor: {factor}')\n",
    "    model = create_model_l2(factor)\n",
    "    early_stopping = EarlyStopping(monitor='val_accuracy', patience=3, restore_best_weights=True)\n",
    "    history = model.fit(\n",
    "        X_train, y_train,\n",
    "        batch_size=best_h_params['batch_size'],\n",
    "        epochs=best_h_params['num_epochs'],\n",
    "        validation_data=(X_val, y_val),\n",
    "        callbacks=[early_stopping],\n",
    "        verbose=0\n",
    "    )\n",
    "    val_acc = max(history.history['val_accuracy'])\n",
    "    print(f'Validation accuracy: {val_acc}')\n",
    "    val_accs_l2[factor] = val_acc\n",
    "    if val_acc > best_val_acc:\n",
    "        best_val_acc = val_acc\n",
    "        best_factor = factor\n",
    "        best_l2_model = model"
   ]
  },
  {
   "cell_type": "code",
   "execution_count": 15,
   "id": "8ce3d284",
   "metadata": {},
   "outputs": [
    {
     "name": "stdout",
     "output_type": "stream",
     "text": [
      "Best validation accuracy: 0.8319736123085022\n",
      "Best factor: 0.1\n"
     ]
    }
   ],
   "source": [
    "print(f'Best validation accuracy: {best_val_acc}')\n",
    "print(f'Best factor: {best_factor}')"
   ]
  },
  {
   "cell_type": "markdown",
   "id": "eb9e192b",
   "metadata": {},
   "source": [
    "The regularization factor that gave the best validation accuracy was 0.1. However, the accuracy is about the same (slightly lower too) compared to the model without regularization. Therefore, in further analysis, a model with regularization will not be used.\n",
    "\n",
    "#### 4.2.2 - Dropout Layers\n",
    "\n",
    "Dropout layers will be used in the model to reduce the number of neurons and possibly reduce overfitting."
   ]
  },
  {
   "cell_type": "code",
   "execution_count": 16,
   "id": "4342db7f",
   "metadata": {},
   "outputs": [],
   "source": [
    "from tensorflow.keras.layers import Dropout\n",
    "\n",
    "# Return model with architecture 2 with dropout layers added\n",
    "def create_model_dropout():\n",
    "    model = Sequential([\n",
    "        Conv2D(32, (3, 3), activation='relu', input_shape=(32, 32, 3)),\n",
    "        MaxPooling2D((2, 2)),\n",
    "        Conv2D(64, (3, 3), activation='relu'),\n",
    "        MaxPooling2D((2, 2)),\n",
    "        Conv2D(128, (3, 3), activation='relu'),\n",
    "        MaxPooling2D((2, 2)),\n",
    "        Flatten(),\n",
    "        Dense(128, activation='relu'),\n",
    "        Dropout(0.25),\n",
    "        Dense(64, activation='relu'),\n",
    "        Dropout(0.25),\n",
    "        Dense(1, activation='sigmoid')\n",
    "    ])\n",
    "    model.compile(optimizer='adam', loss='binary_crossentropy', metrics=['accuracy'])\n",
    "    return model\n",
    "\n",
    "# Split training data into training and validation sets\n",
    "X_train, X_val, y_train, y_val = train_test_split(\n",
    "    train_images, train_labels, test_size=0.2, random_state=123\n",
    ")"
   ]
  },
  {
   "cell_type": "code",
   "execution_count": 17,
   "id": "8eb3143e",
   "metadata": {},
   "outputs": [],
   "source": [
    "dropout_model = create_model_dropout()\n",
    "\n",
    "early_stopping = EarlyStopping(monitor='val_accuracy', patience=3, restore_best_weights=True)\n",
    "history = model.fit(\n",
    "    X_train, y_train,\n",
    "    batch_size=best_h_params['batch_size'],\n",
    "    epochs=best_h_params['num_epochs'],\n",
    "    validation_data=(X_val, y_val),\n",
    "    callbacks=[early_stopping],\n",
    "    verbose=0\n",
    ")"
   ]
  },
  {
   "cell_type": "code",
   "execution_count": 18,
   "id": "dc235e81",
   "metadata": {},
   "outputs": [
    {
     "name": "stdout",
     "output_type": "stream",
     "text": [
      "Validation accuracy: 0.8099533915519714\n"
     ]
    }
   ],
   "source": [
    "val_acc_dropout = max(history.history['val_accuracy'])\n",
    "print(f'Validation accuracy: {val_acc_dropout}')"
   ]
  },
  {
   "cell_type": "markdown",
   "id": "96d3b9de",
   "metadata": {},
   "source": [
    "The validation accuracy from using dropout layers is lower compared to the model without dropout layers.\n",
    "\n",
    "### 4.3 - Results"
   ]
  },
  {
   "cell_type": "code",
   "execution_count": 19,
   "id": "91378670",
   "metadata": {},
   "outputs": [
    {
     "name": "stdout",
     "output_type": "stream",
     "text": [
      "{10: {64: 0.8199068307876587, 128: 0.8216566443443298, 256: 0.8201113343238831}, 20: {64: 0.8194750547409058, 128: 0.8346324563026428, 256: 0.8144301772117615}}\n",
      "{10: {64: 0.8199068307876587, 128: 0.8255879878997803, 256: 0.8264742493629456}, 20: {64: 0.8147937655448914, 128: 0.8191568851470947, 256: 0.8327008485794067}}\n"
     ]
    }
   ],
   "source": [
    "print(val_accs_1)\n",
    "print(val_accs_2)"
   ]
  },
  {
   "cell_type": "markdown",
   "id": "7f6f4c4a",
   "metadata": {},
   "source": [
    "Hyperparameter tuning for number of epochs and batch size for architecture 1:\n",
    "\n",
    "|| 64 Batch Size | 128 Batch Size | 256 Batch Size |\n",
    "| :-: | :-: | :-: | :-: |\n",
    "| **10 Epochs** | 0.820 | 0.822 | 0.820 |\n",
    "| **20 Epochs** | 0.819 | 0.835 | 0.814 |\n",
    "\n",
    "Hyperparameter tuning for number of epochs and batch size for architecture 2:\n",
    "\n",
    "|| 64 Batch Size | 128 Batch Size | 256 Batch Size |\n",
    "| :-: | :-: | :-: | :-: |\n",
    "| **10 Epochs** | 0.820 | 0.826 | 0.826 |\n",
    "| **20 Epochs** | 0.815 | 0.819 | 0.833 |"
   ]
  },
  {
   "cell_type": "code",
   "execution_count": 20,
   "id": "ef36c71d",
   "metadata": {},
   "outputs": [
    {
     "name": "stdout",
     "output_type": "stream",
     "text": [
      "{0.001: 0.822156548500061, 0.01: 0.816634476184845, 0.1: 0.8319736123085022, 1.0: 0.8053402900695801}\n"
     ]
    }
   ],
   "source": [
    "print(val_accs_l2)"
   ]
  },
  {
   "cell_type": "markdown",
   "id": "ed764334",
   "metadata": {},
   "source": [
    "Validation accuracy as L2 regularization factor changes:\n",
    "\n",
    "| L2 Regularization Factor | Validation Accuracy |\n",
    "| :-: | :-: |\n",
    "| 0.001 | 0.822 |\n",
    "| 0.01 | 0.817 |\n",
    "| 0.1 | 0.832 |\n",
    "| 1.0 | 0.805 |"
   ]
  },
  {
   "cell_type": "code",
   "execution_count": 21,
   "id": "d918b8f1",
   "metadata": {},
   "outputs": [
    {
     "name": "stdout",
     "output_type": "stream",
     "text": [
      "0.8099533915519714\n"
     ]
    }
   ],
   "source": [
    "print(val_acc_dropout)"
   ]
  },
  {
   "cell_type": "markdown",
   "id": "7b09d40c",
   "metadata": {},
   "source": [
    "Best accuracies achieved across techniques:\n",
    "\n",
    "| Technique | Best Validation Accuracy |\n",
    "| :-: | :-: |\n",
    "| Hyperparameter Tuning | 0.835 |\n",
    "| L2 Regularization | 0.832 |\n",
    "| Dropout Layers | 0.810 |\n",
    "\n",
    "### 4.4 - Test Data Prediction\n",
    "\n",
    "Creating the submission file for the Histopathologic Cancer Detection Kaggle competition using the best model obtained after hyperparameter tuning."
   ]
  },
  {
   "cell_type": "code",
   "execution_count": 22,
   "id": "fb9aeeaf",
   "metadata": {},
   "outputs": [],
   "source": [
    "import os\n",
    "\n",
    "test_dir = './data/test'\n",
    "test_images = []\n",
    "test_ids = []\n",
    "\n",
    "for file_name in os.listdir(test_dir):\n",
    "    if file_name.endswith('.tif'):\n",
    "        file_id = file_name.replace('.tif', '')\n",
    "        file_path = os.path.join(test_dir, file_name)\n",
    "        img_array = load_and_preprocess_image(file_path)\n",
    "        test_images.append(img_array)\n",
    "        test_ids.append(file_id)\n",
    "\n",
    "test_images = np.array(test_images)"
   ]
  },
  {
   "cell_type": "code",
   "execution_count": 23,
   "id": "a8110b56",
   "metadata": {},
   "outputs": [
    {
     "name": "stdout",
     "output_type": "stream",
     "text": [
      "1796/1796 [==============================] - 9s 5ms/step\n"
     ]
    }
   ],
   "source": [
    "predictions = best_hp_model.predict(test_images)\n",
    "pred_labels = (predictions > 0.5).astype(int).reshape(-1)\n",
    "\n",
    "output = pd.DataFrame({'id': test_ids, 'label': pred_labels})\n",
    "output.to_csv('output.csv', index=False)"
   ]
  },
  {
   "cell_type": "markdown",
   "id": "3d35ae50",
   "metadata": {},
   "source": [
    "The accuracy on the testing dataset was 0.771."
   ]
  },
  {
   "cell_type": "markdown",
   "id": "828d4348",
   "metadata": {},
   "source": [
    "## 5 - Conclusion\n",
    "\n",
    "In this project, a CNN was developed and trained with the goal of being able to classify whether pathology images contain tumour tissue or not. Two different architectures were considered and compared. Based on hyperparameter tuning, model architecture 1 had better performance and the best number of epochs was 20 and the best batch size was 128. This gave a validation accuracy of 0.835.\n",
    "\n",
    "Two techniques to help improve the performance of the model were considered: L2 regularization and dropout layers. Adding L2 regularization did not help improve performance since the best validation accuracy obtained was 0.832. Similarly, adding dropout layers did not help improve performance since the best validation accuracy obtained was 0.810. Based on these results, it is possible that adding L2 regularization and dropout layers did not help since the model is not overfitting. In reality, the model may be underfitting since applying these techniques reduced the validation accuracy.\n",
    "\n",
    "Some possible improvements to try in the future include increasing model complexity and trying different techniques to help improve performance. The model that was trained may be underfitting, so increasing the model complexity by adding more layers or filters/neurons per layer may help reduce any underfitting. Additionally, different techniques to help improve performance such as batch normalization could be tried to help improve performance."
   ]
  },
  {
   "cell_type": "code",
   "execution_count": null,
   "id": "fbbdef5e",
   "metadata": {},
   "outputs": [],
   "source": []
  }
 ],
 "metadata": {
  "kernelspec": {
   "display_name": "Python 3 (ipykernel)",
   "language": "python",
   "name": "python3"
  },
  "language_info": {
   "codemirror_mode": {
    "name": "ipython",
    "version": 3
   },
   "file_extension": ".py",
   "mimetype": "text/x-python",
   "name": "python",
   "nbconvert_exporter": "python",
   "pygments_lexer": "ipython3",
   "version": "3.11.9"
  }
 },
 "nbformat": 4,
 "nbformat_minor": 5
}
